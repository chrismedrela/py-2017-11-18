{
 "cells": [
  {
   "cell_type": "markdown",
   "metadata": {},
   "source": [
    "# Podstawy pracy z git niezbędne do sklonowania i pull'owania repozytorium z ćwiczeniami"
   ]
  },
  {
   "cell_type": "markdown",
   "metadata": {},
   "source": [
    "Sklonowanie repozytorium:\n",
    "\n",
    "```bash\n",
    "git clone REPO\n",
    "cd py-2017-11-18\n",
    "```\n",
    "\n",
    "Pobranie nowych zmian:\n",
    "\n",
    "```bash\n",
    "git pull\n",
    "```"
   ]
  },
  {
   "cell_type": "markdown",
   "metadata": {},
   "source": [
    "asdf"
   ]
  },
  {
   "cell_type": "markdown",
   "metadata": {},
   "source": [
    "# IDE (Visual Studio Code z wtyczką do Pythona)"
   ]
  },
  {
   "cell_type": "markdown",
   "metadata": {},
   "source": [
    "1. Instalacja Visual Studio Code\n",
    "2. Instalacja wtyczki do Pythona\n",
    "3. Otwarcie katalogu z repozytorium\n",
    "4. Opis interfejsu - pięć paneli bocznych\n",
    "5. `F1` - znajdź polecenie\n",
    "6. `ctrl+P` - przełączaj między plikami\n",
    "7. Wsparcie dla git (dolny pasek)\n",
    "8. Pullowanie repozytorium\n",
    "9. Dolny panel uaktywniany `ctrl+` `"
   ]
  },
  {
   "cell_type": "markdown",
   "metadata": {},
   "source": [
    "# Instalacja Pythona 2.7"
   ]
  },
  {
   "cell_type": "markdown",
   "metadata": {},
   "source": [
    "Python 2.7 powinien być zainstalowany pod Debianem.\n",
    "\n",
    "Pod Windowsem konieczna jest zainstalowanie Pythona.\n",
    "Instalator można pobrać z oficjalnej strony Pythona.\n",
    "\n",
    "Dobrze jest się upewnić, czy pracujemy na Pythonie 2, a nie 3:\n",
    "\n",
    "```bash\n",
    "python --version\n",
    "pip --version\n",
    "```"
   ]
  },
  {
   "cell_type": "markdown",
   "metadata": {},
   "source": [
    "# Uruchamianie skryptów z terminala"
   ]
  },
  {
   "cell_type": "markdown",
   "metadata": {},
   "source": [
    "Uruchomienie skryptu:\n",
    "\n",
    "```bash\n",
    "python moj-skrypt.py\n",
    "```\n",
    "\n",
    "Uruchomienie interaktywnej konsoli Pythona (REPL):\n",
    "\n",
    "```bash\n",
    "python\n",
    "```"
   ]
  },
  {
   "cell_type": "markdown",
   "metadata": {},
   "source": [
    "# Instalacja bibliotek za pomocą managera pakietów pip"
   ]
  },
  {
   "cell_type": "markdown",
   "metadata": {},
   "source": [
    "Instalacja biblioteki dostępnej na pypi:\n",
    "\n",
    "```bash\n",
    "pip install biblioteka\n",
    "```\n",
    "\n",
    "Wylistowanie wszystkich zainstalowanych bibliotek:\n",
    "\n",
    "```bash\n",
    "pip freeze\n",
    "```\n",
    "\n",
    "Przydatny idiom:\n",
    "\n",
    "```bash\n",
    "pip freeze | grep jakasbiblioteka\n",
    "```"
   ]
  },
  {
   "cell_type": "markdown",
   "metadata": {},
   "source": [
    "# Interaktywna konsola IPython"
   ]
  },
  {
   "cell_type": "markdown",
   "metadata": {},
   "source": [
    "Instalacja:\n",
    "\n",
    "```bash\n",
    "pip install ipython\n",
    "```\n",
    "\n",
    "Sprawdzenie instalacji:\n",
    "\n",
    "```bash\n",
    "ipython --version\n",
    "```\n",
    "\n",
    "Argumenty są takie same jak dla polecenia `python`.\n",
    "\n",
    "Uruchomienie interaktywnej konsoli:\n",
    "\n",
    "```bash\n",
    "ipython\n",
    "```\n",
    "\n",
    "Uruchomienie skryptu:\n",
    "\n",
    "```bash\n",
    "ipython moj-skrypt.py\n",
    "```\n",
    "\n",
    "Wykonanie skryptu, a następnie wejście w interaktywną konsole (REPL):\n",
    "\n",
    "```bash\n",
    "ipython -i moj-skrypt.py\n",
    "```\n",
    "\n",
    "## Wewnątrz IPythona\n",
    "\n",
    "Po uruchomieniu IPythona, można wykonać polecenia basha bez wychodzenia z IPythona, wystarczy poprzedzić je wykrzyknikiem:"
   ]
  },
  {
   "cell_type": "code",
   "execution_count": 4,
   "metadata": {},
   "outputs": [
    {
     "name": "stdout",
     "output_type": "stream",
     "text": [
      "Python 2.7.13\r\n"
     ]
    }
   ],
   "source": [
    "!python --version"
   ]
  },
  {
   "cell_type": "markdown",
   "metadata": {},
   "source": [
    "Jupyter Notebook to nakładka graficzna na IPythona."
   ]
  },
  {
   "cell_type": "markdown",
   "metadata": {},
   "source": [
    "# Jupyter Notebook (opcjonalnie)"
   ]
  },
  {
   "cell_type": "markdown",
   "metadata": {},
   "source": [
    "Instalacja:\n",
    "\n",
    "```bash\n",
    "pip install jupyter\n",
    "```\n",
    "\n",
    "Przed uruchomieniem należy przejść do katalogu, w którym chcemy pracować.\n",
    "\n",
    "Uruchomienie:\n",
    "\n",
    "```bash\n",
    "jupyter notebook\n",
    "```\n",
    "\n",
    "Powinna wyświetlić się nowa zakładka w domyślnej przeglądarce.\n",
    "\n",
    "Można przeglądać poszczególne pliki z katalogu, który wybrałeś, oraz z podkatalogów.\n",
    "Można także otworzyć poszczególne notebooki i zacząć je edytować.\n",
    "\n",
    "Aby wyjść z Jupyter Notebooka, nie wystarczy zamknąć zakładki w przeglądarce.\n",
    "Należy także wyłączyć serwer - w konsoli zatrzymujemy go klikając `ctrl+C` i potwierdzając `y`.\n",
    "\n",
    "Dobrze jest usunąć ewentualne zmiany wprowadzone w notebookach, tak aby przy pullowaniu nie doszło do konfliktu."
   ]
  }
 ],
 "metadata": {
  "kernelspec": {
   "display_name": "Python 2",
   "language": "python",
   "name": "python2"
  },
  "language_info": {
   "codemirror_mode": {
    "name": "ipython",
    "version": 2
   },
   "file_extension": ".py",
   "mimetype": "text/x-python",
   "name": "python",
   "nbconvert_exporter": "python",
   "pygments_lexer": "ipython2",
   "version": "2.7.16"
  },
  "toc": {
   "nav_menu": {},
   "number_sections": true,
   "sideBar": true,
   "skip_h1_title": false,
   "title_cell": "Table of Contents",
   "title_sidebar": "Contents",
   "toc_cell": false,
   "toc_position": {},
   "toc_section_display": "block",
   "toc_window_display": false
  }
 },
 "nbformat": 4,
 "nbformat_minor": 2
}
