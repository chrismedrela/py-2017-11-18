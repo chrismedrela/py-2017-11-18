{
 "cells": [
  {
   "cell_type": "markdown",
   "metadata": {
    "run_control": {
     "marked": false
    }
   },
   "source": [
    "# Test końcowy\n",
    "\n",
    "Test składa się z 10 otwartych pytań.\n",
    "Każde z pytań składa się z fragmentu kodu, w którym znajdują się instrukcje `print`.\n",
    "Należy określić, co zostanie wypisane na standardowym wyjściu.\n",
    "\n",
    "Ponadto, jeżeli fragment kodu rzuca wyjątkiem i jest on nieobsłużony, należy dodatkowo napisać \"wyjątek\" i strzałką zaznaczyć linię kodu, w której został rzucony ten wyjątek. \n",
    "Nie trzeba określać klasy wyjątku.\n",
    "\n",
    "Za każde pytanie można otrzymać zero lub jeden punkt, chyba że napisano inaczej.\n",
    "W sumie można otrzymać od 0 do 10 punktów."
   ]
  },
  {
   "cell_type": "markdown",
   "metadata": {
    "run_control": {
     "marked": false
    }
   },
   "source": [
    "# Pytanie 1"
   ]
  },
  {
   "cell_type": "code",
   "execution_count": 1,
   "metadata": {
    "hide_input": false,
    "locked": false,
    "run_control": {
     "marked": false
    },
    "scrolled": true
   },
   "outputs": [
    {
     "name": "stdout",
     "output_type": "stream",
     "text": [
      "[42, 42]\n"
     ]
    }
   ],
   "source": [
    "def insert_item(item, list_=[]):\n",
    "    list_.insert(0, item)\n",
    "    return list_\n",
    "\n",
    "insert_item(42)\n",
    "print(insert_item(42))"
   ]
  },
  {
   "cell_type": "markdown",
   "metadata": {
    "run_control": {
     "marked": false
    }
   },
   "source": [
    "# Pytanie 2\n",
    "\n",
    "0.25 punkta za każdego printa. W sumie 0, 0.25, 0.5, 0.75 lub 1 punkt."
   ]
  },
  {
   "cell_type": "code",
   "execution_count": 2,
   "metadata": {
    "run_control": {
     "marked": false
    }
   },
   "outputs": [
    {
     "name": "stdout",
     "output_type": "stream",
     "text": [
      "3\n",
      "6\n",
      "()\n",
      "{'a': 4}\n"
     ]
    }
   ],
   "source": [
    "def print_args(x, y=42, z=84, *args, **kwargs):\n",
    "    print(y)\n",
    "    print(z)\n",
    "    print(args)\n",
    "    print(kwargs)\n",
    "    \n",
    "print_args(2, 3, a=4, z=6)"
   ]
  },
  {
   "cell_type": "markdown",
   "metadata": {
    "run_control": {
     "marked": false
    }
   },
   "source": [
    "# Pytanie 3\n",
    "\n",
    "0.2 za każdego printa (tzn. za poprawne określenie, czy dany print się wykona).\n",
    "W sumie 0, 0.2, 0.4, 0.6, 0.8 lub 1 punkt.\n",
    "0 punktów, jeżeli zostanie niepoprawnie określone, czy pojawił się jakiś nieobsłużony wyjątek."
   ]
  },
  {
   "cell_type": "code",
   "execution_count": 3,
   "metadata": {
    "run_control": {
     "marked": false
    }
   },
   "outputs": [
    {
     "name": "stdout",
     "output_type": "stream",
     "text": [
      "EXCEPT EXCEPTION\n",
      "FINALLY\n"
     ]
    }
   ],
   "source": [
    "def risky_function():\n",
    "    raise KeyError\n",
    "\n",
    "try:\n",
    "    risky_function()\n",
    "    print('TRY')\n",
    "except TypeError:\n",
    "    print('EXCEPT TYPEERROR')\n",
    "except Exception:\n",
    "    print('EXCEPT EXCEPTION')\n",
    "else:\n",
    "    print('ELSE')\n",
    "finally:\n",
    "    print('FINALLY')"
   ]
  },
  {
   "cell_type": "markdown",
   "metadata": {
    "run_control": {
     "marked": false
    }
   },
   "source": [
    "# Pytanie 4\n",
    "\n",
    "0.2 za poprawne określenie, czy dany print się wykona.\n",
    "W sumie 0, 0.2, 0.4, 0.6, 0.8 lub 1 punkt.\n",
    "0 punktów, jeżeli zostanie niepoprawnie określone, czy pojawił się jakiś nieobsłużony wyjątek."
   ]
  },
  {
   "cell_type": "code",
   "execution_count": 4,
   "metadata": {
    "run_control": {
     "marked": false
    }
   },
   "outputs": [
    {
     "name": "stdout",
     "output_type": "stream",
     "text": [
      "TRY\n",
      "ELSE\n",
      "FINALLY\n"
     ]
    }
   ],
   "source": [
    "def not_so_risky_function():\n",
    "    pass  # no exception\n",
    "\n",
    "try:\n",
    "    not_so_risky_function()\n",
    "    print('TRY')\n",
    "except TypeError:\n",
    "    print('EXCEPT TYPEERROR')\n",
    "except Exception:\n",
    "    print('EXCEPT EXCEPTION')\n",
    "else:\n",
    "    print('ELSE')\n",
    "finally:\n",
    "    print('FINALLY')"
   ]
  },
  {
   "cell_type": "markdown",
   "metadata": {
    "run_control": {
     "marked": false
    }
   },
   "source": [
    "# Pytanie 5"
   ]
  },
  {
   "cell_type": "code",
   "execution_count": 5,
   "metadata": {
    "run_control": {
     "marked": false
    },
    "scrolled": true
   },
   "outputs": [
    {
     "ename": "TypeError",
     "evalue": "'str' object does not support item assignment",
     "output_type": "error",
     "traceback": [
      "\u001b[0;31m-------------------------------------------------------------------\u001b[0m",
      "\u001b[0;31mTypeError\u001b[0m                         Traceback (most recent call last)",
      "\u001b[0;32m<ipython-input-5-78cd353392de>\u001b[0m in \u001b[0;36m<module>\u001b[0;34m()\u001b[0m\n\u001b[1;32m      1\u001b[0m \u001b[0mfoo\u001b[0m \u001b[0;34m=\u001b[0m \u001b[0;34m'aaaa'\u001b[0m\u001b[0;34m\u001b[0m\u001b[0m\n\u001b[1;32m      2\u001b[0m \u001b[0mbar\u001b[0m \u001b[0;34m=\u001b[0m \u001b[0mfoo\u001b[0m\u001b[0;34m\u001b[0m\u001b[0m\n\u001b[0;32m----> 3\u001b[0;31m \u001b[0mfoo\u001b[0m\u001b[0;34m[\u001b[0m\u001b[0;36m0\u001b[0m\u001b[0;34m]\u001b[0m \u001b[0;34m=\u001b[0m \u001b[0;34m'b'\u001b[0m\u001b[0;34m\u001b[0m\u001b[0m\n\u001b[0m\u001b[1;32m      4\u001b[0m \u001b[0;32mprint\u001b[0m\u001b[0;34m(\u001b[0m\u001b[0mfoo\u001b[0m\u001b[0;34m)\u001b[0m\u001b[0;34m\u001b[0m\u001b[0m\n\u001b[1;32m      5\u001b[0m \u001b[0;32mprint\u001b[0m\u001b[0;34m(\u001b[0m\u001b[0mbar\u001b[0m\u001b[0;34m)\u001b[0m\u001b[0;34m\u001b[0m\u001b[0m\n",
      "\u001b[0;31mTypeError\u001b[0m: 'str' object does not support item assignment"
     ]
    }
   ],
   "source": [
    "foo = 'aaaa'\n",
    "bar = foo\n",
    "foo[0] = 'b'\n",
    "print(foo)\n",
    "print(bar)"
   ]
  },
  {
   "cell_type": "markdown",
   "metadata": {
    "run_control": {
     "marked": false
    }
   },
   "source": [
    "# Pytanie 6"
   ]
  },
  {
   "cell_type": "code",
   "execution_count": 6,
   "metadata": {
    "run_control": {
     "marked": false
    }
   },
   "outputs": [
    {
     "name": "stdout",
     "output_type": "stream",
     "text": [
      "SPECIALIZED DUMMY\n"
     ]
    }
   ],
   "source": [
    "class DummyClass(object):\n",
    "    def __init__(self):\n",
    "        print('DUMMY')\n",
    "        \n",
    "class SpecializedDummyClass(DummyClass):\n",
    "    def __init__(self):\n",
    "        print('SPECIALIZED DUMMY')\n",
    "        \n",
    "dummy = SpecializedDummyClass()"
   ]
  },
  {
   "cell_type": "markdown",
   "metadata": {
    "run_control": {
     "marked": false
    }
   },
   "source": [
    "# Pytanie 7"
   ]
  },
  {
   "cell_type": "code",
   "execution_count": 7,
   "metadata": {},
   "outputs": [
    {
     "name": "stdout",
     "output_type": "stream",
     "text": [
      "('ww',)\n"
     ]
    }
   ],
   "source": [
    "import re\n",
    "\n",
    "print(re.search('foo(.*)', 'afooww').groups())"
   ]
  },
  {
   "cell_type": "markdown",
   "metadata": {},
   "source": [
    "# Pytanie 8"
   ]
  },
  {
   "cell_type": "code",
   "execution_count": 8,
   "metadata": {},
   "outputs": [
    {
     "ename": "AttributeError",
     "evalue": "'NoneType' object has no attribute 'groups'",
     "output_type": "error",
     "traceback": [
      "\u001b[0;31m-------------------------------------------------------------------\u001b[0m",
      "\u001b[0;31mAttributeError\u001b[0m                    Traceback (most recent call last)",
      "\u001b[0;32m<ipython-input-8-5bc61b07eb5f>\u001b[0m in \u001b[0;36m<module>\u001b[0;34m()\u001b[0m\n\u001b[1;32m      1\u001b[0m \u001b[0;32mimport\u001b[0m \u001b[0mre\u001b[0m\u001b[0;34m\u001b[0m\u001b[0m\n\u001b[1;32m      2\u001b[0m \u001b[0;34m\u001b[0m\u001b[0m\n\u001b[0;32m----> 3\u001b[0;31m \u001b[0;32mprint\u001b[0m\u001b[0;34m(\u001b[0m\u001b[0mre\u001b[0m\u001b[0;34m.\u001b[0m\u001b[0msearch\u001b[0m\u001b[0;34m(\u001b[0m\u001b[0;34m'^foo(.*)$'\u001b[0m\u001b[0;34m,\u001b[0m \u001b[0;34m'afooww'\u001b[0m\u001b[0;34m)\u001b[0m\u001b[0;34m.\u001b[0m\u001b[0mgroups\u001b[0m\u001b[0;34m(\u001b[0m\u001b[0;34m)\u001b[0m\u001b[0;34m)\u001b[0m\u001b[0;34m\u001b[0m\u001b[0m\n\u001b[0m",
      "\u001b[0;31mAttributeError\u001b[0m: 'NoneType' object has no attribute 'groups'"
     ]
    }
   ],
   "source": [
    "import re\n",
    "\n",
    "print(re.search('^foo(.*)$', 'afooww').groups())"
   ]
  },
  {
   "cell_type": "markdown",
   "metadata": {},
   "source": [
    "# Pytanie 9\n",
    "\n",
    "0.25 za każdego printa.\n",
    "W sumie 0, 0.25, 0.5, 0.75 lub 1 punkt.\n",
    "0 punktów, jeżeli zostanie niepoprawnie określone, czy pojawił się jakiś nieobsłużony wyjątek."
   ]
  },
  {
   "cell_type": "code",
   "execution_count": 9,
   "metadata": {},
   "outputs": [
    {
     "name": "stdout",
     "output_type": "stream",
     "text": [
      "(<__main__.Bar object at 0x7fa4cc366bd0>, 42, 84)\n",
      "(<class '__main__.Bar'>, 42, 84)\n",
      "(42, 84)\n",
      "(<__main__.Bar object at 0x7fa4cc366bd0>,)\n"
     ]
    },
    {
     "ename": "TypeError",
     "evalue": "'NoneType' object is not callable",
     "output_type": "error",
     "traceback": [
      "\u001b[0;31m-------------------------------------------------------------------\u001b[0m",
      "\u001b[0;31mTypeError\u001b[0m                         Traceback (most recent call last)",
      "\u001b[0;32m<ipython-input-9-67cdbb483f19>\u001b[0m in \u001b[0;36m<module>\u001b[0;34m()\u001b[0m\n\u001b[1;32m     19\u001b[0m \u001b[0mbar\u001b[0m\u001b[0;34m.\u001b[0m\u001b[0mmy_classmethod\u001b[0m\u001b[0;34m(\u001b[0m\u001b[0;36m42\u001b[0m\u001b[0;34m,\u001b[0m \u001b[0;36m84\u001b[0m\u001b[0;34m)\u001b[0m\u001b[0;34m\u001b[0m\u001b[0m\n\u001b[1;32m     20\u001b[0m \u001b[0mbar\u001b[0m\u001b[0;34m.\u001b[0m\u001b[0mmy_staticmethod\u001b[0m\u001b[0;34m(\u001b[0m\u001b[0;36m42\u001b[0m\u001b[0;34m,\u001b[0m \u001b[0;36m84\u001b[0m\u001b[0;34m)\u001b[0m\u001b[0;34m\u001b[0m\u001b[0m\n\u001b[0;32m---> 21\u001b[0;31m \u001b[0mbar\u001b[0m\u001b[0;34m.\u001b[0m\u001b[0mmy_property\u001b[0m\u001b[0;34m(\u001b[0m\u001b[0;36m42\u001b[0m\u001b[0;34m)\u001b[0m\u001b[0;34m\u001b[0m\u001b[0m\n\u001b[0m",
      "\u001b[0;31mTypeError\u001b[0m: 'NoneType' object is not callable"
     ]
    }
   ],
   "source": [
    "class Bar(object):\n",
    "    def my_method(*args):\n",
    "        print(args)\n",
    "    \n",
    "    @classmethod\n",
    "    def my_classmethod(*args):\n",
    "        print(args)\n",
    "        \n",
    "    @staticmethod\n",
    "    def my_staticmethod(*args):\n",
    "        print(args)\n",
    "        \n",
    "    @property\n",
    "    def my_property(*args):\n",
    "        print(args)\n",
    "        \n",
    "bar = Bar()\n",
    "bar.my_method(42, 84)\n",
    "bar.my_classmethod(42, 84)\n",
    "bar.my_staticmethod(42, 84)\n",
    "bar.my_property(42)"
   ]
  },
  {
   "cell_type": "markdown",
   "metadata": {},
   "source": [
    "Podpowiedź:"
   ]
  },
  {
   "cell_type": "code",
   "execution_count": 1,
   "metadata": {},
   "outputs": [
    {
     "name": "stdout",
     "output_type": "stream",
     "text": [
      "<class '__main__.Foo'>\n"
     ]
    }
   ],
   "source": [
    "class Foo(object):\n",
    "    pass\n",
    "\n",
    "instance = Foo()\n",
    "print(Foo)"
   ]
  },
  {
   "cell_type": "code",
   "execution_count": 2,
   "metadata": {},
   "outputs": [
    {
     "name": "stdout",
     "output_type": "stream",
     "text": [
      "<__main__.Foo object at 0x7f6e540c1910>\n"
     ]
    }
   ],
   "source": [
    "print(instance)"
   ]
  },
  {
   "cell_type": "markdown",
   "metadata": {},
   "source": [
    "# Pytanie 10"
   ]
  },
  {
   "cell_type": "code",
   "execution_count": 10,
   "metadata": {},
   "outputs": [
    {
     "name": "stdout",
     "output_type": "stream",
     "text": [
      "(<class '__main__.D'>, <class '__main__.B'>, <class '__main__.C'>, <class '__main__.A'>, <type 'object'>)\n"
     ]
    }
   ],
   "source": [
    "class A(object): pass        \n",
    "class B(A): pass\n",
    "class C(A): pass        \n",
    "class D(B, C): pass\n",
    "        \n",
    "print(D.__mro__)"
   ]
  },
  {
   "cell_type": "code",
   "execution_count": null,
   "metadata": {
    "hide_input": true,
    "run_control": {
     "marked": false
    }
   },
   "outputs": [],
   "source": [
    "%%HTML\n",
    "<style>\n",
    "div.text_cell div.prompt {\n",
    "    display: none;  /* none */\n",
    "}\n",
    "</style>"
   ]
  },
  {
   "cell_type": "code",
   "execution_count": 3,
   "metadata": {
    "hide_input": true,
    "run_control": {
     "marked": false
    },
    "scrolled": true
   },
   "outputs": [],
   "source": [
    "NOTEBOOK_NAME = 'Test końcowy.ipynb'\n",
    "!jupyter nbconvert --template=nbextensions --to=html \"$NOTEBOOK_NAME\" 2> /dev/null"
   ]
  }
 ],
 "metadata": {
  "kernelspec": {
   "display_name": "Python 2",
   "language": "python",
   "name": "python2"
  },
  "language_info": {
   "codemirror_mode": {
    "name": "ipython",
    "version": 2
   },
   "file_extension": ".py",
   "mimetype": "text/x-python",
   "name": "python",
   "nbconvert_exporter": "python",
   "pygments_lexer": "ipython2",
   "version": "2.7.13"
  },
  "toc": {
   "nav_menu": {
    "height": "556px",
    "width": "386px"
   },
   "number_sections": false,
   "sideBar": true,
   "skip_h1_title": false,
   "toc_cell": false,
   "toc_position": {},
   "toc_section_display": "block",
   "toc_window_display": false
  }
 },
 "nbformat": 4,
 "nbformat_minor": 2
}
